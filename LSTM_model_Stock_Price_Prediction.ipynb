{
 "cells": [
  {
   "cell_type": "markdown",
   "source": [
    "<h2>PART 1. Data Pre-processing</h2>\n",
    "<h3>1.1 load the packages</h3> \n"
   ],
   "metadata": {
    "collapsed": false
   },
   "id": "e683a882310ca20f"
  },
  {
   "cell_type": "code",
   "execution_count": 1,
   "id": "initial_id",
   "metadata": {
    "collapsed": true,
    "ExecuteTime": {
     "end_time": "2023-11-30T16:54:11.219815900Z",
     "start_time": "2023-11-30T16:54:06.748504600Z"
    }
   },
   "outputs": [],
   "source": [
    "# import the packages required \n",
    "import numpy as np\n",
    "import pandas as pd\n",
    "import matplotlib.pyplot as plt\n",
    "import datetime as dt\n",
    "from datetime import datetime\n",
    "\n",
    "from keras.callbacks import EarlyStopping, ReduceLROnPlateau, ModelCheckpoint, TensorBoard"
   ]
  },
  {
   "cell_type": "markdown",
   "source": [
    "<h3>1.2 Read data</h3>"
   ],
   "metadata": {
    "collapsed": false
   },
   "id": "311d1036442e8775"
  },
  {
   "cell_type": "code",
   "execution_count": 2,
   "outputs": [
    {
     "name": "stdout",
     "output_type": "stream",
     "text": [
      "Training set shape == (4006, 7)\n",
      "All timestamps == 4006\n",
      "Featured selected: ['Open', 'High', 'Low', 'Close', 'Adj Close']\n"
     ]
    }
   ],
   "source": [
    "# Importing Training Set\n",
    "dataset_train = pd.read_csv('data/GOOG.csv')\n",
    "\n",
    "# Select features (columns) to be involved intro training and predictions\n",
    "cols = list(dataset_train)[1:6]\n",
    "\n",
    "# Extract dates (will be used in visualization)\n",
    "datelist_train = list(dataset_train['Date'])\n",
    "datelist_train = [dt.datetime.strptime(date, '%Y-%m-%d').date() for date in datelist_train]\n",
    "\n",
    "print('Training set shape == {}'.format(dataset_train.shape))\n",
    "print('All timestamps == {}'.format(len(datelist_train)))\n",
    "print('Featured selected: {}'.format(cols))"
   ],
   "metadata": {
    "collapsed": false,
    "ExecuteTime": {
     "end_time": "2023-11-30T16:54:11.298162200Z",
     "start_time": "2023-11-30T16:54:11.219815900Z"
    }
   },
   "id": "ea5ff035d4776892"
  },
  {
   "cell_type": "markdown",
   "source": [
    "<h3>1.3 Data pre-processing</h3>\n",
    "<p>\n",
    "Removing all commas and convert data to matrix shape format.\n",
    "</p>"
   ],
   "metadata": {
    "collapsed": false
   },
   "id": "6e66205df717e1b9"
  },
  {
   "cell_type": "markdown",
   "source": [],
   "metadata": {
    "collapsed": false
   },
   "id": "749eac3ac956f76"
  },
  {
   "cell_type": "code",
   "execution_count": 3,
   "outputs": [
    {
     "name": "stdout",
     "output_type": "stream",
     "text": [
      "Shape of training set == (4006, 5).\n"
     ]
    },
    {
     "data": {
      "text/plain": "array([[  49.813286,   51.835709,   47.800831,   49.982655,   49.982655],\n       [  50.316402,   54.336334,   50.062355,   53.95277 ,   53.95277 ],\n       [  55.168217,   56.528118,   54.321388,   54.495735,   54.495735],\n       ...,\n       [1523.130005, 1535.329956, 1498.      , 1513.640015, 1513.640015],\n       [1500.      , 1518.689941, 1486.310059, 1518.      , 1518.      ],\n       [1521.619995, 1523.439941, 1498.420044, 1515.550049, 1515.550049]])"
     },
     "execution_count": 3,
     "metadata": {},
     "output_type": "execute_result"
    }
   ],
   "source": [
    "dataset_train = dataset_train[cols].astype(str)\n",
    "for i in cols:\n",
    "    for j in range(0, len(dataset_train)):\n",
    "        dataset_train[i][j] = dataset_train[i][j].replace(',', '')\n",
    "\n",
    "dataset_train = dataset_train.astype(float)\n",
    "\n",
    "# Using multiple features (predictors)\n",
    "training_set = dataset_train.values\n",
    "\n",
    "print('Shape of training set == {}.'.format(training_set.shape))\n",
    "training_set"
   ],
   "metadata": {
    "collapsed": false,
    "ExecuteTime": {
     "end_time": "2023-11-30T16:54:12.674038400Z",
     "start_time": "2023-11-30T16:54:11.298162200Z"
    }
   },
   "id": "ebf4a5123134982f"
  },
  {
   "cell_type": "code",
   "execution_count": 4,
   "outputs": [
    {
     "data": {
      "text/plain": "array([[-1.27195197],\n       [-1.27058974],\n       [-1.25745309],\n       ...,\n       [ 2.71716347],\n       [ 2.65453724],\n       [ 2.713075  ]])"
     },
     "execution_count": 4,
     "metadata": {},
     "output_type": "execute_result"
    }
   ],
   "source": [
    "# Feature Scaling\n",
    "from sklearn.preprocessing import StandardScaler\n",
    "\n",
    "sc = StandardScaler()\n",
    "training_set_scaled = sc.fit_transform(training_set)\n",
    "\n",
    "sc_predict = StandardScaler()\n",
    "sc_predict.fit_transform(training_set[:, 0:1])"
   ],
   "metadata": {
    "collapsed": false,
    "ExecuteTime": {
     "end_time": "2023-11-30T16:54:13.071313500Z",
     "start_time": "2023-11-30T16:54:12.674038400Z"
    }
   },
   "id": "3c6fe511de84b43f"
  },
  {
   "cell_type": "code",
   "execution_count": 5,
   "outputs": [
    {
     "name": "stdout",
     "output_type": "stream",
     "text": [
      "X_train shape == (3857, 90, 4).\n",
      "y_train shape == (3857, 1).\n"
     ]
    }
   ],
   "source": [
    "# Creating a data structure with 90 timestamps and 1 output\n",
    "X_train = []\n",
    "y_train = []\n",
    "\n",
    "n_future = 60   # Number of days we want top predict into the future\n",
    "n_past = 90     # Number of past days we want to use to predict the future\n",
    "\n",
    "for i in range(n_past, len(training_set_scaled) - n_future +1):\n",
    "    X_train.append(training_set_scaled[i - n_past:i, 0:dataset_train.shape[1] - 1])\n",
    "    y_train.append(training_set_scaled[i + n_future - 1:i + n_future, 0])\n",
    "\n",
    "X_train, y_train = np.array(X_train), np.array(y_train)\n",
    "\n",
    "print('X_train shape == {}.'.format(X_train.shape))\n",
    "print('y_train shape == {}.'.format(y_train.shape))"
   ],
   "metadata": {
    "collapsed": false,
    "ExecuteTime": {
     "end_time": "2023-11-30T16:54:13.108444500Z",
     "start_time": "2023-11-30T16:54:13.071313500Z"
    }
   },
   "id": "50b585055722db8d"
  },
  {
   "cell_type": "markdown",
   "source": [
    "<h2>PART 2. Create a model Training</h2>"
   ],
   "metadata": {
    "collapsed": false
   },
   "id": "ebbe5d656066995b"
  },
  {
   "cell_type": "markdown",
   "source": [
    "<h3>2.1. Building the LSTM based Neural Network</h3>"
   ],
   "metadata": {
    "collapsed": false
   },
   "id": "53aa4a4bc6c04c95"
  },
  {
   "cell_type": "code",
   "execution_count": 6,
   "outputs": [],
   "source": [
    "# Import Libraries and packages from Keras\n",
    "from keras.models import Sequential\n",
    "from keras.layers import Dense\n",
    "from keras.layers import LSTM\n",
    "from keras.layers import Dropout\n",
    "from keras.optimizers import Adam"
   ],
   "metadata": {
    "collapsed": false,
    "ExecuteTime": {
     "end_time": "2023-11-30T16:54:13.124076700Z",
     "start_time": "2023-11-30T16:54:13.107989400Z"
    }
   },
   "id": "7dbf96e0be5dd907"
  },
  {
   "cell_type": "code",
   "execution_count": 7,
   "outputs": [],
   "source": [
    "# Initializing the Neural Network based on LSTM\n",
    "model = Sequential()\n",
    "\n",
    "# Adding 1st LSTM layer\n",
    "model.add(LSTM(units=64, return_sequences=True, input_shape=(n_past, dataset_train.shape[1]-1)))\n",
    "\n",
    "# Adding 2nd LSTM layer\n",
    "model.add(LSTM(units=10, return_sequences=False))\n",
    "\n",
    "# Adding Dropout\n",
    "model.add(Dropout(0.25))\n",
    "\n",
    "# Output layer\n",
    "model.add(Dense(units=1, activation='linear'))\n",
    "\n",
    "# Compiling the Neural Network\n",
    "model.compile(optimizer = Adam(learning_rate=0.01), loss='mean_squared_error')"
   ],
   "metadata": {
    "collapsed": false,
    "ExecuteTime": {
     "end_time": "2023-11-30T16:54:13.637603300Z",
     "start_time": "2023-11-30T16:54:13.124076700Z"
    }
   },
   "id": "9f64e20d47e21fc7"
  },
  {
   "cell_type": "markdown",
   "source": [
    "Maybe try to visualize the network (did not finish yet..."
   ],
   "metadata": {
    "collapsed": false
   },
   "id": "61f3ea3606f8ea0b"
  },
  {
   "cell_type": "markdown",
   "source": [
    "<h3>2.2 Start training</h3>"
   ],
   "metadata": {
    "collapsed": false
   },
   "id": "b9001c7df38ffa0a"
  },
  {
   "cell_type": "code",
   "execution_count": 8,
   "outputs": [
    {
     "name": "stdout",
     "output_type": "stream",
     "text": [
      "Epoch 1/30\n",
      "13/13 [==============================] - ETA: 0s - loss: 0.1080\n",
      "Epoch 1: val_loss improved from inf to 1.01168, saving model to weights.h5\n",
      "13/13 [==============================] - 9s 435ms/step - loss: 0.1080 - val_loss: 1.0117 - lr: 0.0100\n",
      "Epoch 2/30\n",
      "13/13 [==============================] - ETA: 0s - loss: 0.0364\n",
      "Epoch 2: val_loss improved from 1.01168 to 0.70095, saving model to weights.h5\n",
      "13/13 [==============================] - 3s 229ms/step - loss: 0.0364 - val_loss: 0.7009 - lr: 0.0100\n",
      "Epoch 3/30\n",
      "13/13 [==============================] - ETA: 0s - loss: 0.0327\n",
      "Epoch 3: val_loss improved from 0.70095 to 0.47689, saving model to weights.h5\n",
      "13/13 [==============================] - 3s 216ms/step - loss: 0.0327 - val_loss: 0.4769 - lr: 0.0100\n",
      "Epoch 4/30\n",
      "13/13 [==============================] - ETA: 0s - loss: 0.0320\n",
      "Epoch 4: val_loss improved from 0.47689 to 0.25412, saving model to weights.h5\n",
      "13/13 [==============================] - 3s 222ms/step - loss: 0.0320 - val_loss: 0.2541 - lr: 0.0100\n",
      "Epoch 5/30\n",
      "13/13 [==============================] - ETA: 0s - loss: 0.0285\n",
      "Epoch 5: val_loss improved from 0.25412 to 0.10698, saving model to weights.h5\n",
      "13/13 [==============================] - 3s 211ms/step - loss: 0.0285 - val_loss: 0.1070 - lr: 0.0100\n",
      "Epoch 6/30\n",
      "13/13 [==============================] - ETA: 0s - loss: 0.0291\n",
      "Epoch 6: val_loss did not improve from 0.10698\n",
      "13/13 [==============================] - 3s 215ms/step - loss: 0.0291 - val_loss: 0.2973 - lr: 0.0100\n",
      "Epoch 7/30\n",
      "13/13 [==============================] - ETA: 0s - loss: 0.0293\n",
      "Epoch 7: val_loss did not improve from 0.10698\n",
      "13/13 [==============================] - 3s 232ms/step - loss: 0.0293 - val_loss: 0.2796 - lr: 0.0100\n",
      "Epoch 8/30\n",
      "13/13 [==============================] - ETA: 0s - loss: 0.0277\n",
      "Epoch 8: val_loss did not improve from 0.10698\n",
      "13/13 [==============================] - 3s 208ms/step - loss: 0.0277 - val_loss: 0.2477 - lr: 0.0100\n",
      "Epoch 9/30\n",
      "13/13 [==============================] - ETA: 0s - loss: 0.0281\n",
      "Epoch 9: val_loss did not improve from 0.10698\n",
      "13/13 [==============================] - 3s 201ms/step - loss: 0.0281 - val_loss: 0.1130 - lr: 0.0100\n",
      "Epoch 10/30\n",
      "13/13 [==============================] - ETA: 0s - loss: 0.0271\n",
      "Epoch 10: val_loss did not improve from 0.10698\n",
      "13/13 [==============================] - 3s 201ms/step - loss: 0.0271 - val_loss: 0.1207 - lr: 0.0100\n",
      "Epoch 11/30\n",
      "13/13 [==============================] - ETA: 0s - loss: 0.0263\n",
      "Epoch 11: val_loss did not improve from 0.10698\n",
      "13/13 [==============================] - 3s 213ms/step - loss: 0.0263 - val_loss: 0.1292 - lr: 0.0100\n",
      "Epoch 12/30\n",
      "13/13 [==============================] - ETA: 0s - loss: 0.0285\n",
      "Epoch 12: val_loss did not improve from 0.10698\n",
      "13/13 [==============================] - 3s 204ms/step - loss: 0.0285 - val_loss: 0.2431 - lr: 0.0100\n",
      "Epoch 13/30\n",
      "13/13 [==============================] - ETA: 0s - loss: 0.0294\n",
      "Epoch 13: val_loss did not improve from 0.10698\n",
      "13/13 [==============================] - 3s 205ms/step - loss: 0.0294 - val_loss: 0.3211 - lr: 0.0100\n",
      "Epoch 14/30\n",
      "13/13 [==============================] - ETA: 0s - loss: 0.0269\n",
      "Epoch 14: val_loss did not improve from 0.10698\n",
      "13/13 [==============================] - 3s 207ms/step - loss: 0.0269 - val_loss: 0.1933 - lr: 0.0100\n",
      "Epoch 15/30\n",
      "13/13 [==============================] - ETA: 0s - loss: 0.0291\n",
      "Epoch 15: ReduceLROnPlateau reducing learning rate to 0.004999999888241291.\n",
      "\n",
      "Epoch 15: val_loss did not improve from 0.10698\n",
      "13/13 [==============================] - 3s 199ms/step - loss: 0.0291 - val_loss: 0.1732 - lr: 0.0100\n",
      "Epoch 15: early stopping\n"
     ]
    }
   ],
   "source": [
    "es = EarlyStopping(monitor='val_loss', min_delta=1e-10, patience=10, verbose=1)\n",
    "rlr = ReduceLROnPlateau(monitor='val_loss', factor=0.5, patience=10, verbose=1)\n",
    "mcp = ModelCheckpoint(filepath='weights.h5', monitor='val_loss', verbose=1, save_best_only=True, save_weights_only=True)\n",
    "\n",
    "tb = TensorBoard('logs')\n",
    "\n",
    "history = model.fit(X_train, y_train, shuffle=True, epochs=30, callbacks=[es, rlr, mcp, tb], validation_split=0.2, verbose=1, batch_size=256)"
   ],
   "metadata": {
    "collapsed": false,
    "ExecuteTime": {
     "end_time": "2023-11-30T16:55:00.798883100Z",
     "start_time": "2023-11-30T16:54:13.637603300Z"
    }
   },
   "id": "24714018db0fb36b"
  },
  {
   "cell_type": "markdown",
   "source": [
    "<p>\n",
    "Notes:<br>\n",
    "<ul>\n",
    "<li><b>EarlyStopping</b> - Stop training when a monitored metric has stopped improving.</li>\n",
    "<li><code>monitor</code> - quantity to be monitored.</li>\n",
    "<li><code>min_delta</code> - minimum change in the monitored quantity to qualify as an improvement, i.e. an absolute change of less than <code>min_delta</code>, will count as no improvement.</li>\n",
    "<li><code>patience</code> - number of epochs with no improvement after which training will be stopped.</li>\n",
    "</ul>\n",
    "\n",
    "<ul>\n",
    "<li><b>ReduceLROnPlateau</b> - Reduce learning rate when a metric has stopped improving.</li>\n",
    "<li><code>factor</code> - factor by which the learning rate will be reduced. <code>new_lr = lr * factor</code>.</li>\n",
    "</ul>\n",
    "</p>\n",
    "\n",
    "<hr>"
   ],
   "metadata": {
    "collapsed": false
   },
   "id": "475556991ead06da"
  },
  {
   "cell_type": "markdown",
   "source": [
    "<h2>PART 3. Make future predictions</h2>"
   ],
   "metadata": {
    "collapsed": false
   },
   "id": "1626f26b2d8ddead"
  },
  {
   "cell_type": "code",
   "execution_count": 9,
   "outputs": [],
   "source": [
    "# Generate list of sequence of days for predictions\n",
    "datelist_future = pd.date_range(datelist_train[-1], periods=n_future, freq='1d').tolist()\n",
    "\n",
    "'''\n",
    "Remeber, we have datelist_train from begining.\n",
    "'''\n",
    "\n",
    "# Convert Pandas Timestamp to Datetime object (for transformation) --> FUTURE\n",
    "datelist_future_ = []\n",
    "for this_timestamp in datelist_future:\n",
    "    datelist_future_.append(this_timestamp.date())"
   ],
   "metadata": {
    "collapsed": false,
    "ExecuteTime": {
     "end_time": "2023-11-30T16:55:00.798883100Z",
     "start_time": "2023-11-30T16:55:00.783262300Z"
    }
   },
   "id": "174dbff0e50df203"
  },
  {
   "cell_type": "markdown",
   "source": [
    "<h3>3.1 Make predictions for future dates</h3>"
   ],
   "metadata": {
    "collapsed": false
   },
   "id": "b660ae2592c2245e"
  },
  {
   "cell_type": "code",
   "execution_count": 10,
   "outputs": [
    {
     "name": "stdout",
     "output_type": "stream",
     "text": [
      "2/2 [==============================] - 1s 16ms/step\n",
      "118/118 [==============================] - 2s 19ms/step\n"
     ]
    }
   ],
   "source": [
    "# Perform predictions\n",
    "predictions_future = model.predict(X_train[-n_future:])\n",
    "\n",
    "predictions_train = model.predict(X_train[n_past:])"
   ],
   "metadata": {
    "collapsed": false,
    "ExecuteTime": {
     "end_time": "2023-11-30T16:55:03.998669900Z",
     "start_time": "2023-11-30T16:55:00.798883100Z"
    }
   },
   "id": "b361ee649fecf44a"
  },
  {
   "cell_type": "code",
   "execution_count": 11,
   "outputs": [
    {
     "data": {
      "text/plain": "                  Open\n2005-08-01  160.397690\n2005-08-02  160.820053\n2005-08-03  161.124374",
      "text/html": "<div>\n<style scoped>\n    .dataframe tbody tr th:only-of-type {\n        vertical-align: middle;\n    }\n\n    .dataframe tbody tr th {\n        vertical-align: top;\n    }\n\n    .dataframe thead th {\n        text-align: right;\n    }\n</style>\n<table border=\"1\" class=\"dataframe\">\n  <thead>\n    <tr style=\"text-align: right;\">\n      <th></th>\n      <th>Open</th>\n    </tr>\n  </thead>\n  <tbody>\n    <tr>\n      <th>2005-08-01</th>\n      <td>160.397690</td>\n    </tr>\n    <tr>\n      <th>2005-08-02</th>\n      <td>160.820053</td>\n    </tr>\n    <tr>\n      <th>2005-08-03</th>\n      <td>161.124374</td>\n    </tr>\n  </tbody>\n</table>\n</div>"
     },
     "execution_count": 11,
     "metadata": {},
     "output_type": "execute_result"
    }
   ],
   "source": [
    "# Inverse the predictions to original measurements\n",
    "\n",
    "# ---> Special function: convert <datetime.date> to <Timestamp>\n",
    "def datetime_to_timestamp(x):\n",
    "    '''\n",
    "        x : a given datetime value (datetime.date)\n",
    "    '''\n",
    "    return datetime.strptime(x.strftime('%Y%m%d'), '%Y%m%d')\n",
    "\n",
    "\n",
    "y_pred_future = sc_predict.inverse_transform(predictions_future)\n",
    "y_pred_train = sc_predict.inverse_transform(predictions_train)\n",
    "\n",
    "PREDICTIONS_FUTURE = pd.DataFrame(y_pred_future, columns=['Open']).set_index(pd.Series(datelist_future))\n",
    "PREDICTION_TRAIN = pd.DataFrame(y_pred_train, columns=['Open']).set_index(pd.Series(datelist_train[2 * n_past + n_future -1:]))\n",
    "\n",
    "# Convert <datetime.date> to <Timestamp> for PREDCITION_TRAIN\n",
    "PREDICTION_TRAIN.index = PREDICTION_TRAIN.index.to_series().apply(datetime_to_timestamp)\n",
    "\n",
    "PREDICTION_TRAIN.head(3)"
   ],
   "metadata": {
    "collapsed": false,
    "ExecuteTime": {
     "end_time": "2023-11-30T16:55:04.092821400Z",
     "start_time": "2023-11-30T16:55:03.998669900Z"
    }
   },
   "id": "5c92362b51d74ebf"
  },
  {
   "cell_type": "markdown",
   "source": [
    "<h3>3.2 Visualize the Predictions</h3>"
   ],
   "metadata": {
    "collapsed": false
   },
   "id": "51b12879b2f93e03"
  },
  {
   "cell_type": "code",
   "execution_count": null,
   "outputs": [],
   "source": [
    "# Parse training set timestamp for better visualization\n",
    "dataset_train = pd.DataFrame(dataset_train, columns=cols)\n",
    "dataset_train.index = datelist_train\n",
    "dataset_train.index = pd.to_datetime(dataset_train.index)"
   ],
   "metadata": {
    "collapsed": false
   },
   "id": "55096130e5933378"
  },
  {
   "cell_type": "code",
   "execution_count": 15,
   "outputs": [
    {
     "data": {
      "text/plain": "<Figure size 1400x500 with 1 Axes>",
      "image/png": "[encoded data removed]"
     },
     "metadata": {},
     "output_type": "display_data"
    }
   ],
   "source": [
    "# Set plot size \n",
    "from pylab import rcParams\n",
    "rcParams['figure.figsize'] = 14, 5\n",
    "\n",
    "# Plot parameters\n",
    "START_DATE_FOR_PLOTTING = '2012-06-01'\n",
    "\n",
    "plt.plot(PREDICTIONS_FUTURE.index, PREDICTIONS_FUTURE['Open'], color='r', label='Predicted Stock Price')\n",
    "plt.plot(PREDICTION_TRAIN.loc[START_DATE_FOR_PLOTTING:].index, PREDICTION_TRAIN.loc[START_DATE_FOR_PLOTTING:]['Open'], color='orange', label='Training predictions')\n",
    "plt.plot(dataset_train.loc[START_DATE_FOR_PLOTTING:].index, dataset_train.loc[START_DATE_FOR_PLOTTING:]['Open'], color='b', label='Actual Stock Price')\n",
    "\n",
    "plt.axvline(x = min(PREDICTIONS_FUTURE.index), color='green', linewidth=2, linestyle='--')\n",
    "\n",
    "plt.grid(which='major', color='#cccccc', alpha=0.5)\n",
    "\n",
    "plt.legend(shadow=True)\n",
    "plt.title('Predcitions and Acutal Stock Prices', family='Arial', fontsize=12)\n",
    "plt.xlabel('Timeline', family='Arial', fontsize=10)\n",
    "plt.ylabel('Stock Price Value', family='Arial', fontsize=10)\n",
    "plt.xticks(rotation=45, fontsize=8)\n",
    "plt.show()"
   ],
   "metadata": {
    "collapsed": false,
    "ExecuteTime": {
     "end_time": "2023-11-30T16:55:27.541025400Z",
     "start_time": "2023-11-30T16:55:27.308709500Z"
    }
   },
   "id": "53c47f5a62534603"
  },
  {
   "cell_type": "markdown",
   "source": [],
   "metadata": {
    "collapsed": false
   },
   "id": "475f9539f0a29e27"
  }
 ],
 "metadata": {
  "kernelspec": {
   "display_name": "Python 3",
   "language": "python",
   "name": "python3"
  },
  "language_info": {
   "codemirror_mode": {
    "name": "ipython",
    "version": 2
   },
   "file_extension": ".py",
   "mimetype": "text/x-python",
   "name": "python",
   "nbconvert_exporter": "python",
   "pygments_lexer": "ipython2",
   "version": "2.7.6"
  }
 },
 "nbformat": 4,
 "nbformat_minor": 5
}
